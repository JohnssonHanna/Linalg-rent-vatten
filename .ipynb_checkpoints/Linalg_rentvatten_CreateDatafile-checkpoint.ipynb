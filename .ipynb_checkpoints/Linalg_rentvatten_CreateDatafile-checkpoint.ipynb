{
 "cells": [
  {
   "cell_type": "markdown",
   "metadata": {},
   "source": [
    "# Rent vatten"
   ]
  },
  {
   "cell_type": "markdown",
   "metadata": {},
   "source": [
    "## Data"
   ]
  },
  {
   "cell_type": "markdown",
   "metadata": {},
   "source": [
    "Här läses vår insamlade data som innehåller Tillgång till rent vatten, \n",
    "Meddellivslängd, Human Development Index, Bruttonationanlprodukt per Capita,\n",
    "för 16 länder över åren 2000-2017. Länderna är utvalda enligt 4/4/4/4 där\n",
    "de tillhör en kategori av HDI, Mycket högt/Högt/Medel/Lågt. \n",
    "https://sv.wikipedia.org/wiki/Lista_%C3%B6ver_l%C3%A4nder_efter_Human_Development_Index\n",
    "\n",
    "Väden är inhämtade från följande källor:\n",
    "Vattentillgång - https://data.worldbank.org/indicator/SH.H2O.BASW.ZS\n",
    "Medellivslängd - http://data.un.org/Data.aspx?d=PopDiv&f=variableID%3a68\n",
    "HDI - http://hdr.undp.org/en/indicators/137506#\n",
    "BNP - https://data.worldbank.org/indicator/NY.GDP.PCAP.CD\n"
   ]
  },
  {
   "cell_type": "code",
   "execution_count": 17,
   "metadata": {},
   "outputs": [],
   "source": [
    "import numpy as np\n",
    "import pandas as pd\n",
    "\n",
    "dfVatten = pd.read_csv('C:/Users/albin/Python arbete/Data till kod/DATA - Tillgång till rent vatten.csv', decimal=',', delimiter=',', header=None)\n",
    "dfVatten = dfVatten.to_numpy()\n",
    "\n",
    "dfMedel = pd.read_csv('Data till kod/DATA - Medellivslängd.csv', decimal=',', delimiter=',', header=None)\n",
    "dfMedel = dfMedel.to_numpy()\n",
    "\n",
    "dfHDI = pd.read_csv('Data till kod/DATA - HDI.csv', decimal=',', delimiter=',', header=None)\n",
    "dfHDI = dfHDI.to_numpy()\n",
    "\n",
    "dfBNP = pd.read_csv('Data till kod/DATA - BNP.csv', decimal=',', delimiter=',', header=None)\n",
    "dfBNP = dfBNP.to_numpy()\n",
    "\n",
    "dfLänder = pd.read_csv('Data till kod/DATA - Länder.csv', dtype=str, delimiter=',', header=None)\n",
    "dfLänder = dfLänder.to_numpy()\n",
    "\n",
    "dfÅrtal = pd.read_csv('Data till kod/DATA - Årtal.csv', dtype=np.float64, delimiter=',', header=None)\n",
    "dfÅrtal = dfÅrtal.to_numpy()\n",
    "\n",
    "np.savez('Final_datalinalgprojekt.npz', Årtal=dfÅrtal, Vattentillgång=dfVatten, Medellivslängd=dfMedel, HDI=dfHDI, BNP=dfBNP, Länder=dfLänder)\n"
   ]
  },
  {
   "cell_type": "markdown",
   "metadata": {},
   "source": [
    "Enligt nedan importeras datan. För Vatten, Medel, HDI och BNP är det en 2D array (16, 18). Land och År är 1D arrays, (16, 1) resp. (1, 18)."
   ]
  },
  {
   "cell_type": "code",
   "execution_count": 18,
   "metadata": {},
   "outputs": [],
   "source": [
    "import numpy as np\n",
    "data = np.load('C:/Users/albin/Python arbete/datalinalgprojekt.npz', allow_pickle=True)\n",
    "\n",
    "Vatten = data['Vattentillgång']\n",
    "Medel = data['Medellivslängd']\n",
    "HDI = data['HDI']\n",
    "BNP = data['BNP']\n",
    "Land = data['Länder']\n",
    "År = data['Årtal']"
   ]
  },
  {
   "cell_type": "code",
   "execution_count": null,
   "metadata": {},
   "outputs": [],
   "source": []
  }
 ],
 "metadata": {
  "kernelspec": {
   "display_name": "Python 3",
   "language": "python",
   "name": "python3"
  },
  "language_info": {
   "codemirror_mode": {
    "name": "ipython",
    "version": 3
   },
   "file_extension": ".py",
   "mimetype": "text/x-python",
   "name": "python",
   "nbconvert_exporter": "python",
   "pygments_lexer": "ipython3",
   "version": "3.8.5"
  }
 },
 "nbformat": 4,
 "nbformat_minor": 4
}
