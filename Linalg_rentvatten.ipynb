{
 "cells": [
  {
   "cell_type": "markdown",
   "metadata": {},
   "source": [
    "# Rent vatten"
   ]
  },
  {
   "cell_type": "markdown",
   "metadata": {},
   "source": [
    "## Data"
   ]
  },
  {
   "cell_type": "code",
   "execution_count": 15,
   "metadata": {},
   "outputs": [],
   "source": [
    "#A.T*A*x = A.T*b\n",
    "\n",
    "import numpy as np\n",
    "\n",
    "def beräkan(A, B):\n",
    "    n_row = A.shape[1]\n",
    "    A_T = A.T\n",
    "    a_11 = 0\n",
    "    a_12 = 0\n",
    "    a_21 = 0\n",
    "    a_22 = 0\n",
    "    b_11 = 0\n",
    "    b_21 = 0\n",
    "    \n",
    "    \n",
    "    \n",
    "    \n",
    "    for i in range(n_row):\n",
    "        a_11 += A[0, i]*A_T[i,0] #beräka A_T*A\n",
    "        a_12 += A[0, i]*A_T[i,1]\n",
    "        a_21 += A[1, i]*A_T[i,0]\n",
    "        a_22 += A[1, i]*A_T[i,1]\n",
    "        \n",
    "        b_11 += A[0, i]*B[i] #beräkna A_T*b\n",
    "        b_21 += A[1, i]*B[i]\n",
    "        \n",
    "    C = np.array([[a_11, a_12], [a_21, a_22]]).reshape(2,2) #Gör en lista för Gauss \n",
    "    \n",
    "    return C\n"
   ]
  },
  {
   "cell_type": "code",
   "execution_count": 17,
   "metadata": {},
   "outputs": [
    {
     "name": "stdout",
     "output_type": "stream",
     "text": [
      "[[ 6 -1]\n",
      " [-1  6]]\n"
     ]
    }
   ],
   "source": [
    "A =np.array([[1, 1, 2],[-1,-2,1]]).reshape(2,3)\n",
    "B = np.array([0, 2, 1]).reshape(3,1)\n",
    "\n",
    "\n",
    "print(beräkan(A, B))"
   ]
  },
  {
   "cell_type": "code",
   "execution_count": null,
   "metadata": {},
   "outputs": [],
   "source": [
    "def gauss(A):\n",
    "    n = len(A)\n",
    "\n",
    "    for i in range(0, n):\n",
    "        # Search for maximum in this column\n",
    "        maxEl = abs(A[i][i])\n",
    "        maxRow = i\n",
    "        for k in range(i + 1, n):\n",
    "            if abs(A[k][i]) > maxEl:\n",
    "                maxEl = abs(A[k][i])\n",
    "                maxRow = k\n",
    "\n",
    "        # Swap maximum row with current row (column by column)\n",
    "        for k in range(i, n + 1):\n",
    "            tmp = A[maxRow][k]\n",
    "            A[maxRow][k] = A[i][k]\n",
    "            A[i][k] = tmp\n",
    "\n",
    "        # Make all rows below this one 0 in current column\n",
    "        for k in range(i + 1, n):\n",
    "            c = -A[k][i] / A[i][i]\n",
    "            for j in range(i, n + 1):\n",
    "                if i == j:\n",
    "                    A[k][j] = 0\n",
    "                else:\n",
    "                    A[k][j] += c * A[i][j]\n",
    "\n",
    "    # Solve equation Ax=b for an upper triangular matrix A\n",
    "    x = [0 for i in range(n)]\n",
    "    for i in range(n - 1, -1, -1):\n",
    "        x[i] = A[i][n] / A[i][i]\n",
    "        for k in range(i - 1, -1, -1):\n",
    "            A[k][n] -= A[k][i] * x[i]\n",
    "    return x\n"
   ]
  }
 ],
 "metadata": {
  "kernelspec": {
   "display_name": "Python 3",
   "language": "python",
   "name": "python3"
  },
  "language_info": {
   "codemirror_mode": {
    "name": "ipython",
    "version": 3
   },
   "file_extension": ".py",
   "mimetype": "text/x-python",
   "name": "python",
   "nbconvert_exporter": "python",
   "pygments_lexer": "ipython3",
   "version": "3.8.3"
  }
 },
 "nbformat": 4,
 "nbformat_minor": 4
}
