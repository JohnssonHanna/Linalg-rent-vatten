{
 "cells": [
  {
   "cell_type": "markdown",
   "metadata": {},
   "source": [
    "# Rent vatten"
   ]
  },
  {
   "cell_type": "markdown",
   "metadata": {},
   "source": [
    "## Data"
   ]
  },
  {
   "cell_type": "code",
   "execution_count": 4,
   "metadata": {},
   "outputs": [],
   "source": [
    "import numpy as np\n",
    "import pandas as pd\n",
    "dfVatten = pd.read_csv('DATA - Tillgång till rent vatten.csv', delimiter=',')\n",
    "dfVatten = dfVatten.to_numpy()\n",
    "np.savez('linalgproject', dfVatten)\n",
    "\n",
    "dfMedel = pd.read_csv('DATA - Medellivslängd.csv', delimiter=',')\n",
    "dfMedel = dfMedel.to_numpy()\n",
    "np.savez('linalgproject', dfMedel)\n",
    "\n",
    "dfHDI = pd.read_csv('DATA - HDI.csv', delimiter=',')\n",
    "dfHDI = dfHDI.to_numpy()\n",
    "np.savez('linalgproject', dfHDI)\n",
    "\n",
    "dfBNP = pd.read_csv('DATA - BNP.csv', delimiter=',')\n",
    "dfBNP = dfBNP.to_numpy()\n",
    "np.savez('linalgproject', dfBNP)\n",
    "\n",
    "År = np.linspace(2000,2017,18)\n"
   ]
  },
  {
   "cell_type": "code",
   "execution_count": null,
   "metadata": {},
   "outputs": [],
   "source": []
  }
 ],
 "metadata": {
  "kernelspec": {
   "display_name": "Python 3",
   "language": "python",
   "name": "python3"
  },
  "language_info": {
   "codemirror_mode": {
    "name": "ipython",
    "version": 3
   },
   "file_extension": ".py",
   "mimetype": "text/x-python",
   "name": "python",
   "nbconvert_exporter": "python",
   "pygments_lexer": "ipython3",
   "version": "3.8.5"
  }
 },
 "nbformat": 4,
 "nbformat_minor": 4
}
